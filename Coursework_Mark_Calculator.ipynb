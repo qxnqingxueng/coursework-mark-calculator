{
  "nbformat": 4,
  "nbformat_minor": 0,
  "metadata": {
    "colab": {
      "provenance": [],
      "authorship_tag": "ABX9TyNNvwPPUU/tysQjduyEbZ99",
      "include_colab_link": true
    },
    "kernelspec": {
      "name": "python3",
      "display_name": "Python 3"
    },
    "language_info": {
      "name": "python"
    }
  },
  "cells": [
    {
      "cell_type": "markdown",
      "metadata": {
        "id": "view-in-github",
        "colab_type": "text"
      },
      "source": [
        "<a href=\"https://colab.research.google.com/github/qxnqingxueng/coursework-mark-calculator/blob/main/Coursework_Mark_Calculator.ipynb\" target=\"_parent\"><img src=\"https://colab.research.google.com/assets/colab-badge.svg\" alt=\"Open In Colab\"/></a>"
      ]
    },
    {
      "cell_type": "code",
      "source": [
        "from google.colab import drive\n",
        "drive.mount('/content/drive/CPT111_Report_Based_Programming_Assessment2')"
      ],
      "metadata": {
        "id": "rH0g0vnMpMIz"
      },
      "execution_count": null,
      "outputs": []
    },
    {
      "cell_type": "markdown",
      "source": [
        "# Ng Xue Qing (22303691)\n",
        "\n",
        "---\n",
        "\n",
        "\n",
        "#Project Title: Coursework Mark Calculator\n",
        "\n",
        "##Project Specification:\n",
        "This coursework mark calculator is specially designed to ease the CPT111 lecturer in calculating the coursework mark. User can enter certain settings such as the number of students, total coursework mark, the percentage for test 1, test 2, assignment 1 and assignment 2. The calculator program will then output the result into a file named CPT111_CWMarks_Output.txt. The file contains the original data and additional data such as marks in their weightage forms according to the coursework assessment breakdown and the final coursework mark and grade."
      ],
      "metadata": {
        "id": "G_R_JlrJo7SW"
      }
    },
    {
      "cell_type": "markdown",
      "source": [
        "#Problem analysis\n",
        "My program needs user input for the total coursework mark, total number of students, percentage of test 1, percentage of test 2, percentage of assignment 1 and percentage of assignment 2. By using mathematical formula, dividing the marks by 100 and multiplying it with the percentage entered, we are able to get the weightage of the test or assignment. By using mathematical formula, dividing the total coursework mark and then multiplying it with 100 will get the final total score over 100. After all the calculation, this program will output all the result in a file, named CPT111_CWMarks_Output.txt. The output will be arranged as the following: Matric Number, Test 1, Test 1 Weightage, Test 2, Test 2 Weightage, Assignment 1, Assignment 1 Weightage, Assignment 2 Weightage, Total Coursework Mark, Total Coursework Mark over 100, Grade. This program has a constraint where the file names are fixed."
      ],
      "metadata": {
        "id": "Tg6hEV8neAMU"
      }
    },
    {
      "cell_type": "markdown",
      "source": [
        "#Program Design & Solution"
      ],
      "metadata": {
        "id": "WyMVCEEvguMn"
      }
    },
    {
      "cell_type": "markdown",
      "source": [
        "##Pseudocode\n",
        "\n",
        "    MAIN\n",
        "        FLOAT TotalPercentage = 0\n",
        "        INT NumStudent = 0\n",
        "        INT WeightageT1, WeightageT2, WeightageA1, WeightageA2\n",
        "\n",
        "        DISPLAY \"This is a coursework mark calculator.\"\n",
        "        DISPLAY \"----------------------------------------------------------------------\"\n",
        "        DISPLAY \"Please enter the total number of students: \"\n",
        "        INPUT NumStudent\n",
        "\n",
        "        INT MatricNo[NumStudent]\n",
        "        INT Test1[NumStudent], Test2[NumStudent], Assignment1[NumStudent], Assignment2[NumStudent]\n",
        "        FLOAT ConvertedTest1[NumStudent], ConvertedTest2[NumStudent], ConvertedAssignment1[NumStudent], ConvertedAssignment2[NumStudent], Total[NumStudent]\n",
        "        CHAR Grade[NumStudent]\n",
        "\n",
        "        DISPLAY \"Please enter the total coursework mark: \"\n",
        "        INPUT TotalPercentage\n",
        "        DISPLAY \"Please enter the percentage for Test 1: \"\n",
        "        INPUT WeightageT1\n",
        "        DISPLAY \"Please enter the percentage for Test 2: \"\n",
        "        INPUT WeightageT2\n",
        "\n",
        "        WHILE WeightageT1 + WeightageT2 + WeightageA1 + WeightageA2 != TotalPercentage\n",
        "            DISPLAY \"----------------------------------------------------------------------\"\n",
        "            DISPLAY \"Total percentage is not equal to the total coursework mark!\"\n",
        "            DISPLAY \"Please enter the total coursework mark again: \"\n",
        "            INPUT TotalPercentage\n",
        "            DISPLAY \"Please enter the percentage for Test 1 again: \"\n",
        "            INPUT WeightageT1\n",
        "            DISPLAY \"Please enter the percentage for Test 2 again: \"\n",
        "            INPUT WeightageT2\n",
        "            DISPLAY \"Please enter the percentage for Assignment 1 again: \"\n",
        "            INPUT WeightageA1\n",
        "            DISPLAY \"Please enter the percentage for Assignment 2 again: \"\n",
        "            INPUT WeightageA2\n",
        "        END WHILE\n",
        "\n",
        "        ReadFile(NAMEINFILE, &NumStudent, MatricNo, Test1, Test2, Assignment1, Assignment2)\n",
        "        Convert(NumStudent, Test1, WeightageT1, ConvertedTest1)\n",
        "        Convert(NumStudent, Test2, WeightageT2, ConvertedTest2)\n",
        "        Convert(NumStudent, Assignment1, WeightageA1, ConvertedAssignment1)\n",
        "        Convert(NumStudent, Assignment2, WeightageA2, ConvertedAssignment2)\n",
        "        Calculate(NumStudent, TotalPercentage, ConvertedTest1, ConvertedTest2, ConvertedAssignment1, ConvertedAssignment2, Total, Grade)\n",
        "        WriteFile(NAMEOUTFILE, NumStudent, TotalPercentage, MatricNo, Test1, ConvertedTest1, Test2, ConvertedTest2, Assignment1, ConvertedAssignment1, Assignment2, ConvertedAssignment2, Total, Grade)\n",
        "\n",
        "        DISPLAY \"----------------------------------------------------------------------\"\n",
        "        DISPLAY \"Coursework mark calculated and recorded into CPT111_CWMarks_Output.txt\"\n",
        "        RETURN 0\n",
        "    END MAIN\n",
        "\n",
        "    ReadFile(filename, size, MatricNo, Test1, Test2, Assignment1, Assignment2)\n",
        "        FSTREAM InFile\n",
        "        INT MatricNo, T1, T2, A1, A2\n",
        "        InFile.open(filename, ios::in)\n",
        "        STRING Line\n",
        "        CHAR Comma\n",
        "        IgnoreLine(InFile)\n",
        "        INT I\n",
        "        FOR I = 0 TO size AND NOT InFile.eof()\n",
        "            InFile >> MatricNo >> Comma >> T1 >> Comma >> T2 >> Comma >> A1 >> Comma >> A2\n",
        "            MatricNo[I] = MatricNo\n",
        "            Test1[I] = T1\n",
        "            Test2[I] = T2\n",
        "            Assignment1[I] = A1\n",
        "            Assignment2[I] = A2\n",
        "        END FOR\n",
        "        size = I\n",
        "        InFile.close()\n",
        "    END ReadFile\n",
        "\n",
        "    Convert(size, type_of_coursework, weightage, Converted_coursework_mark)\n",
        "        FLOAT OriMark\n",
        "        FOR I = 0 TO size\n",
        "            OriMark = type_of_coursework[I]\n",
        "            OriMark = weightage * OriMark * 0.01\n",
        "            Converted_coursework_mark[I] = OriMark\n",
        "        END FOR\n",
        "    END Convert\n",
        "\n",
        "    Calculate(size, TotalPercentage, ConvertedTest1, ConvertedTest2, ConvertedAssignment1, ConvertedAssignment2, Total, Grade)\n",
        "        FOR I = 0 TO size\n",
        "            Total[I] = ConvertedTest1[I] + ConvertedTest2[I] + ConvertedAssignment1[I] + ConvertedAssignment2[I]\n",
        "        END FOR\n",
        "        Grading(size, TotalPercentage, Total, Grade)\n",
        "    END Calculate\n",
        "\n",
        "    Grading(size, TotalPercentage, Total, Grade)\n",
        "        FOR I = 0 TO size\n",
        "            IF Total[I] * 100.0 / TotalPercentage < 50.0 THEN\n",
        "                Grade[I] = 'F'\n",
        "            ELSE IF Total[I] * 100.0 / TotalPercentage < 60.0 THEN\n",
        "                Grade[I] = 'D'\n",
        "            ELSE IF Total[I] * 100.0 / TotalPercentage < 70.0 THEN\n",
        "                Grade[I] = 'C'\n",
        "            ELSE IF Total[I] * 100.0 / TotalPercentage < 80.0 THEN\n",
        "                Grade[I] = 'B'\n",
        "            ELSE IF Total[I] * 100.0 / TotalPercentage <= 100.0 THEN\n",
        "                Grade[I] = 'A'\n",
        "            END IF\n",
        "        END FOR\n",
        "    END Grading\n",
        "\n",
        "    WriteFile(filename, size, TotalPercentage, MatricNo, Test1, ConvertedTest1, Test2, ConvertedTest2, Assignment1, ConvertedAssignment1, Assignment2, ConvertedAssignment2, Total, Grade)\n",
        "        FSTREAM OutFile\n",
        "        INT MatricNo, T1, T2, A1, A2\n",
        "        FLOAT CT1, CT2, CA1, CA2\n",
        "        FLOAT TotalBefore, TotalAfter\n",
        "        CHAR Grad\n",
        "        OutFile.open(filename, ios::out | ios::trunc)\n",
        "        OutFile.close()\n",
        "        OutFile.open(filename, ios::app)\n",
        "        OutFile << \"Matric Number,Test 1,Test1_Weightage,Test 2,Test2_Weightage,Assignment 1,Assignment1_Weightage,Assignment 2,Assignment2_Weightage,Total CW,over 100,Grade\"\n",
        "        FOR I = 0 TO size\n",
        "            MatricNo = MatricNo[I]\n",
        "            T1 = Test1[I]\n",
        "            T2 = Test2[I]\n",
        "            A1 = Assignment1[I]\n",
        "            A2 = Assignment2[I]\n",
        "            CT1 = ConvertedTest1[I]\n",
        "            CT2 = ConvertedTest2[I]\n",
        "            CA1 = ConvertedAssignment1[I]\n",
        "            CA2 = ConvertedAssignment2[I]\n",
        "            TotalBefore = Total[I]\n",
        "            TotalAfter = TotalBefore * 100.0 / TotalPercentage\n",
        "            Grad = Grade[I]\n",
        "            OutFile << fixed << showpoint << setprecision(2)\n",
        "            OutFile << endl << MatricNo << ',' << T1 << ',' << CT1 << ',' << T2 << ',' << CT2 << ',' << A1 << ',' << CA1 << ',' << A2 << ',' << CA2 << ',' << TotalBefore << ',' << TotalAfter << ',' << Grad\n",
        "        END FOR\n",
        "        OutFile.close()\n",
        "    END WriteFile\n",
        "        "
      ],
      "metadata": {
        "id": "sUd2JhmJg34p"
      }
    },
    {
      "cell_type": "markdown",
      "source": [
        "#Coding"
      ],
      "metadata": {
        "id": "1XHERsLEhFFx"
      }
    },
    {
      "cell_type": "code",
      "source": [
        "%%writefile CPT111_CWMarks.txt\n",
        "Matric Number,Test 1,Test 2,Assignment 1,Assignment 2\n",
        "123456,78,80,85,90\n",
        "123457,65,55,60,54\n",
        "123458,55,55,60,65\n",
        "123459,40,60,55,65\n",
        "123460,36,55,78,80\n",
        "123461,20,50,70,65\n",
        "123462,27,45,60,70\n",
        "123463,88,95,90,85\n",
        "123464,75,85,74,80\n",
        "123465,72,75,75,68\n",
        "123466,68,86,88,74\n",
        "123467,52,56,60,70\n",
        "123468,45,62,75,64\n",
        "123469,93,75,80,65\n",
        "123470,77,89,80,75"
      ],
      "metadata": {
        "id": "A9FYx5gKhHJL",
        "colab": {
          "base_uri": "https://localhost:8080/"
        },
        "outputId": "d53282d1-5fcc-40a0-94c9-17712768545d"
      },
      "execution_count": null,
      "outputs": [
        {
          "output_type": "stream",
          "name": "stdout",
          "text": [
            "Writing CPT111_CWMarks.txt\n"
          ]
        }
      ]
    },
    {
      "cell_type": "code",
      "source": [
        "%%writefile CPT111CWCalculator.cpp\n",
        "#include <iostream>\n",
        "#include <fstream>\n",
        "#include <string>\n",
        "#include <iomanip>\n",
        "using namespace std;\n",
        "\n",
        "// const variable\n",
        "const string NAMEINFILE = \"CPT111_CWMarks.txt\";\n",
        "const string NAMEOUTFILE = \"CPT111_CWMarks_Output.txt\";\n",
        "\n",
        "// function prototyping\n",
        "// read\n",
        "void read(string filename, int* size, int matricNo[], int test1[], int test2[], int assignment1[], int assignment2[]);\n",
        "// conversion\n",
        "void convert(int size, int type_of_coursework[], int weightage, float converted_coursework_mark[]);\n",
        "// calculate\n",
        "void calculate(int size, float totalPercentage, float converted_test1[], float converted_test2[], float converted_assignment1[], float converted_assignment2[], float total[], char grade[]);\n",
        "// grading\n",
        "void grading(int size, float totalPercentage, float total[], char grade[]);\n",
        "// write (passing pointer)\n",
        "void write(string filename, int size, float totalPercentage, int* matricNo, int* test1, float* converted_test1, int* test2, float* converted_test2, int* assignment1, float* converted_assignment1, int* assignment2, float* converted_assignment2, float* total, char* grade);\n",
        "\n",
        "int main(){\n",
        "    // variable declaration\n",
        "    float totalPercentage = 0;\n",
        "    int numStudent = 0;\n",
        "    int weightageT1, weightageT2, weightageA1, weightageA2;\n",
        "    // user interface\n",
        "    cout << \"This is a coursework mark calculator.\" << endl;\n",
        "    cout << \"----------------------------------------------------------------------\" << endl;\n",
        "    // user specification\n",
        "    cout << \"Please enter the total number of students: \";\n",
        "    cin >> numStudent;\n",
        "    // array declaration\n",
        "    int matricNo[numStudent];\n",
        "    int test1[numStudent], test2[numStudent], assignment1[numStudent], assignment2[numStudent];\n",
        "    float converted_test1[numStudent], converted_test2[numStudent], converted_assignment1[numStudent], converted_assignment2[numStudent], total[numStudent];\n",
        "    char grade[numStudent];\n",
        "    cout << \"Please enter the total coursework mark: \";\n",
        "    cin >> totalPercentage;\n",
        "    cout << \"Please enter the percentage for Test 1: \";\n",
        "    cin >> weightageT1;\n",
        "    cout << \"Please enter the percentage for Test 2: \";\n",
        "    cin >> weightageT2;\n",
        "    cout << \"Please enter the percentage for Assignment 1: \";\n",
        "    cin >> weightageA1;\n",
        "    cout << \"Please enter the percentage for Assignment 2: \";\n",
        "    cin >> weightageA2;\n",
        "    // input validation\n",
        "    while(weightageT1+weightageT2+weightageA1+weightageA2 != totalPercentage){\n",
        "        cout << \"----------------------------------------------------------------------\" << endl;\n",
        "        cout << \"Total percentage is not equal to the total coursework mark!\" << endl;\n",
        "        cout << \"Please enter the total coursework mark again: \";\n",
        "        cin >> totalPercentage;\n",
        "        cout << \"Please enter the percentage for Test 1 again: \";\n",
        "        cin >> weightageT1;\n",
        "        cout << \"Please enter the percentage for Test 2 again: \";\n",
        "        cin >> weightageT2;\n",
        "        cout << \"Please enter the percentage for Assignment 1 again: \";\n",
        "        cin >> weightageA1;\n",
        "        cout << \"Please enter the percentage for Assignment 2 again: \";\n",
        "        cin >> weightageA2;\n",
        "    }\n",
        "    // calling function\n",
        "    // read\n",
        "    read(NAMEINFILE, &numStudent, matricNo, test1, test2, assignment1, assignment2);\n",
        "    // conversion\n",
        "    convert(numStudent, test1, weightageT1, converted_test1);\n",
        "    convert(numStudent, test2, weightageT2, converted_test2);\n",
        "    convert(numStudent, assignment1, weightageA1, converted_assignment1);\n",
        "    convert(numStudent, assignment2, weightageA2, converted_assignment2);\n",
        "    // calculate\n",
        "    calculate(numStudent, totalPercentage, converted_test1, converted_test2, converted_assignment1, converted_assignment2, total, grade);\n",
        "    // write\n",
        "    write(NAMEOUTFILE, numStudent, totalPercentage, matricNo, test1, converted_test1, test2, converted_test2, assignment1, converted_assignment1, assignment2, converted_assignment2, total, grade);\n",
        "    cout << \"----------------------------------------------------------------------\" << endl;\n",
        "    cout << \"Coursework mark calculated and recorded into CPT111_CWMarks_Output.txt\";\n",
        "    return 0;\n",
        "}\n",
        "\n",
        "// function defining\n",
        "// read\n",
        "void read(string filename, int* size, int matricNo[], int test1[], int test2[], int assignment1[], int assignment2[]){\n",
        "    fstream inFile;\n",
        "    int matricno, t1, t2, a1, a2;\n",
        "    inFile.open(filename, ios::in);\n",
        "    string line;\n",
        "    char comma;\n",
        "    getline(inFile, line); // ignoring the first lin\n",
        "    int i;\n",
        "    for(i = 0; i < *(size) && !inFile.eof(); i++){\n",
        "        inFile >> matricno >> comma >> t1 >> comma >> t2 >> comma >> a1 >> comma >> a2;\n",
        "        matricNo[i] = matricno;\n",
        "        test1[i] = t1;\n",
        "        test2[i] = t2;\n",
        "        assignment1[i] = a1;\n",
        "        assignment2[i] = a2;\n",
        "    }\n",
        "    *(size) = i;\n",
        "    inFile.close();\n",
        "}\n",
        "// conversion\n",
        "void convert(int size, int type_of_coursework[], int weightage, float converted_coursework_mark[]){\n",
        "    float oriMark;\n",
        "    for(int i = 0; i < size; i++){\n",
        "        oriMark = type_of_coursework[i];\n",
        "        oriMark = weightage*oriMark*0.01;\n",
        "        converted_coursework_mark[i] = oriMark;\n",
        "    }\n",
        "}\n",
        "// calculate\n",
        "void calculate(int size, float totalPercentage, float converted_test1[], float converted_test2[], float converted_assignment1[], float converted_assignment2[], float total[], char grade[]){\n",
        "    for(int i = 0; i < size; i++){\n",
        "        total[i] = converted_test1[i]+converted_test2[i]+converted_assignment1[i]+converted_assignment2[i];\n",
        "    }\n",
        "    // function-to-function call\n",
        "    grading(size, totalPercentage, total, grade);\n",
        "}\n",
        "// grading\n",
        "void grading(int size, float totalPercentage, float total[], char grade[]){\n",
        "    for(int i = 0; i < size; i++){\n",
        "        if((total[i]*100.0/totalPercentage)<50.0){\n",
        "            grade[i] = 'F';\n",
        "        }else if((total[i]*100.0/totalPercentage)<60.0){\n",
        "            grade[i] = 'D';\n",
        "        }else if((total[i]*100.0/totalPercentage)<70.0){\n",
        "            grade[i] = 'C';\n",
        "        }else if((total[i]*100.0/totalPercentage)<80.0){\n",
        "            grade[i] = 'B';\n",
        "        }else if((total[i]*100.0/totalPercentage)<=100.0){\n",
        "            grade[i] = 'A';\n",
        "        }\n",
        "    }\n",
        "}\n",
        "// write (passing pointer)\n",
        "void write(string filename, int size, float totalPercentage, int* matricNo, int* test1, float* converted_test1, int* test2, float* converted_test2, int* assignment1, float* converted_assignment1, int* assignment2, float* converted_assignment2, float* total, char* grade){\n",
        "    fstream outFile;\n",
        "    int matricno, t1, t2, a1, a2;\n",
        "    float ct1, ct2, ca1, ca2;\n",
        "    float totalbefore, totalafter;\n",
        "    char grad;\n",
        "    outFile.open(filename, ios::out | ios::trunc);\n",
        "    outFile.close();\n",
        "    outFile.open(filename, ios::app);\n",
        "    outFile << \"Matric Number,Test 1,Test1_Weightage,Test 2,Test2_Weightage,Assignment 1,Assignment1_Weightage,Assignment 2,Assignment2_Weightage,Total CW,over 100,Grade\";\n",
        "    for(int i = 0; i < size; i++){\n",
        "        matricno = *(matricNo+i);\n",
        "        t1 = *(test1+i);\n",
        "        t2 = *(test2+i);\n",
        "        a1 = *(assignment1+i);\n",
        "        a2 = *(assignment2+i);\n",
        "        ct1 = *(converted_test1+i);\n",
        "        ct2 = *(converted_test2+i);\n",
        "        ca1 = *(converted_assignment1+i);\n",
        "        ca2 = *(converted_assignment2+i);\n",
        "        totalbefore = *(total+i);\n",
        "        totalafter = totalbefore*100.0/totalPercentage;\n",
        "        grad = *(grade+i);\n",
        "        outFile << fixed << showpoint << setprecision(2);\n",
        "        outFile << endl << matricno << ',' << t1 << ',' << ct1 << ',' << t2 << ',' <<  ct2 << ',' << a1 << ',' << ca1 << ',' << a2 << ',' << ca2 << ',' << totalbefore << ',' << totalafter << ',' << grad;\n",
        "    }\n",
        "    outFile.close();\n",
        "}"
      ],
      "metadata": {
        "id": "8UDgfxb2h8Sh",
        "colab": {
          "base_uri": "https://localhost:8080/"
        },
        "outputId": "feb1a5d9-760f-4ec3-a58c-c106a6319f2f"
      },
      "execution_count": null,
      "outputs": [
        {
          "output_type": "stream",
          "name": "stdout",
          "text": [
            "Overwriting CPT111CWCalculator.cpp\n"
          ]
        }
      ]
    },
    {
      "cell_type": "markdown",
      "source": [
        "#Sample of Program Test Run"
      ],
      "metadata": {
        "id": "6s8MLd46jhMz"
      }
    },
    {
      "cell_type": "markdown",
      "source": [
        "##Test Case 1"
      ],
      "metadata": {
        "id": "SavU_KZNlQkx"
      }
    },
    {
      "cell_type": "code",
      "source": [
        "%%shell\n",
        "g++ CPT111CWCalculator.cpp -o CPT111CWCalculator.elf\n",
        "./CPT111CWCalculator.elf"
      ],
      "metadata": {
        "colab": {
          "base_uri": "https://localhost:8080/"
        },
        "id": "zrLnMrqfrXa_",
        "outputId": "010201ff-2592-40f5-b85a-d7f65b8c3ece"
      },
      "execution_count": null,
      "outputs": [
        {
          "output_type": "stream",
          "name": "stdout",
          "text": [
            "This is a coursework mark calculator.\n",
            "----------------------------------------------------------------------\n",
            "Please enter the total number of students: 15\n",
            "Please enter the total coursework mark: 50\n",
            "Please enter the percentage for Test 1: 10\n",
            "Please enter the percentage for Test 2: 10\n",
            "Please enter the percentage for Assignment 1: 15\n",
            "Please enter the percentage for Assignment 2: 15\n",
            "----------------------------------------------------------------------\n",
            "Coursework mark calculated and recorded into CPT111_CWMarks_Output.txt"
          ]
        },
        {
          "output_type": "execute_result",
          "data": {
            "text/plain": []
          },
          "metadata": {},
          "execution_count": 3
        }
      ]
    },
    {
      "cell_type": "code",
      "source": [
        "path = \"CPT111_CWMarks_Output.txt\"\n",
        "with open(path, 'r') as a:\n",
        "  print(a.read())"
      ],
      "metadata": {
        "colab": {
          "base_uri": "https://localhost:8080/"
        },
        "id": "kgFhMGgfttWW",
        "outputId": "ec3db91c-c948-4d3f-c4d2-3aa3a835d26c"
      },
      "execution_count": null,
      "outputs": [
        {
          "output_type": "stream",
          "name": "stdout",
          "text": [
            "Matric Number,Test 1,Test1_Weightage,Test 2,Test2_Weightage,Assignment 1,Assignment1_Weightage,Assignment 2,Assignment2_Weightage,Total CW,over 100,Grade\n",
            "123456,78,7.80,80,8.00,85,12.75,90,13.50,42.05,84.10,A\n",
            "123457,65,6.50,55,5.50,60,9.00,54,8.10,29.10,58.20,D\n",
            "123458,55,5.50,55,5.50,60,9.00,65,9.75,29.75,59.50,D\n",
            "123459,40,4.00,60,6.00,55,8.25,65,9.75,28.00,56.00,D\n",
            "123460,36,3.60,55,5.50,78,11.70,80,12.00,32.80,65.60,C\n",
            "123461,20,2.00,50,5.00,70,10.50,65,9.75,27.25,54.50,D\n",
            "123462,27,2.70,45,4.50,60,9.00,70,10.50,26.70,53.40,D\n",
            "123463,88,8.80,95,9.50,90,13.50,85,12.75,44.55,89.10,A\n",
            "123464,75,7.50,85,8.50,74,11.10,80,12.00,39.10,78.20,B\n",
            "123465,72,7.20,75,7.50,75,11.25,68,10.20,36.15,72.30,B\n",
            "123466,68,6.80,86,8.60,88,13.20,74,11.10,39.70,79.40,B\n",
            "123467,52,5.20,56,5.60,60,9.00,70,10.50,30.30,60.60,C\n",
            "123468,45,4.50,62,6.20,75,11.25,64,9.60,31.55,63.10,C\n",
            "123469,93,9.30,75,7.50,80,12.00,65,9.75,38.55,77.10,B\n",
            "123470,77,7.70,89,8.90,80,12.00,75,11.25,39.85,79.70,B\n"
          ]
        }
      ]
    },
    {
      "cell_type": "markdown",
      "source": [
        "*Accurate number of students and total coursework mark with the percentages.*"
      ],
      "metadata": {
        "id": "-aFrlADGo99V"
      }
    },
    {
      "cell_type": "markdown",
      "source": [
        "##Test Case 2"
      ],
      "metadata": {
        "id": "NBKeMbR2lTF5"
      }
    },
    {
      "cell_type": "code",
      "source": [
        "%%shell\n",
        "g++ CPT111CWCalculator.cpp -o CPT111CWCalculator.elf\n",
        "./CPT111CWCalculator.elf"
      ],
      "metadata": {
        "colab": {
          "base_uri": "https://localhost:8080/"
        },
        "id": "QPPu7aJIt6D8",
        "outputId": "1bab5d27-6e83-45ec-95e7-448fae2468d6"
      },
      "execution_count": null,
      "outputs": [
        {
          "output_type": "stream",
          "name": "stdout",
          "text": [
            "This is a coursework mark calculator.\n",
            "----------------------------------------------------------------------\n",
            "Please enter the total number of students: 5\n",
            "Please enter the total coursework mark: 50\n",
            "Please enter the percentage for Test 1: 10\n",
            "Please enter the percentage for Test 2: 10\n",
            "Please enter the percentage for Assignment 1: 15\n",
            "Please enter the percentage for Assignment 2: 15\n",
            "----------------------------------------------------------------------\n",
            "Coursework mark calculated and recorded into CPT111_CWMarks_Output.txt"
          ]
        },
        {
          "output_type": "execute_result",
          "data": {
            "text/plain": []
          },
          "metadata": {},
          "execution_count": 5
        }
      ]
    },
    {
      "cell_type": "code",
      "source": [
        "path = \"CPT111_CWMarks_Output.txt\"\n",
        "with open(path, 'r') as a:\n",
        "  print(a.read())"
      ],
      "metadata": {
        "colab": {
          "base_uri": "https://localhost:8080/"
        },
        "id": "m46PhdoIuBfk",
        "outputId": "e58492bd-8eb9-4535-94a5-62eadb78612b"
      },
      "execution_count": null,
      "outputs": [
        {
          "output_type": "stream",
          "name": "stdout",
          "text": [
            "Matric Number,Test 1,Test1_Weightage,Test 2,Test2_Weightage,Assignment 1,Assignment1_Weightage,Assignment 2,Assignment2_Weightage,Total CW,over 100,Grade\n",
            "123456,78,7.80,80,8.00,85,12.75,90,13.50,42.05,84.10,A\n",
            "123457,65,6.50,55,5.50,60,9.00,54,8.10,29.10,58.20,D\n",
            "123458,55,5.50,55,5.50,60,9.00,65,9.75,29.75,59.50,D\n",
            "123459,40,4.00,60,6.00,55,8.25,65,9.75,28.00,56.00,D\n",
            "123460,36,3.60,55,5.50,78,11.70,80,12.00,32.80,65.60,C\n"
          ]
        }
      ]
    },
    {
      "cell_type": "markdown",
      "source": [
        "*Only process and output 5 students*"
      ],
      "metadata": {
        "id": "Ezj6IjZfp6wz"
      }
    },
    {
      "cell_type": "markdown",
      "source": [
        "##Test Case 3"
      ],
      "metadata": {
        "id": "7QBwcs0hqAjY"
      }
    },
    {
      "cell_type": "code",
      "source": [
        "%%shell\n",
        "g++ CPT111CWCalculator.cpp -o CPT111CWCalculator.elf\n",
        "./CPT111CWCalculator.elf"
      ],
      "metadata": {
        "colab": {
          "base_uri": "https://localhost:8080/"
        },
        "id": "q1ZkRWJ5uHO2",
        "outputId": "75223bee-31c9-4112-9a3c-b461665939c3"
      },
      "execution_count": null,
      "outputs": [
        {
          "output_type": "stream",
          "name": "stdout",
          "text": [
            "This is a coursework mark calculator.\n",
            "----------------------------------------------------------------------\n",
            "Please enter the total number of students: 1000\n",
            "Please enter the total coursework mark: 50\n",
            "Please enter the percentage for Test 1: 10\n",
            "Please enter the percentage for Test 2: 10\n",
            "Please enter the percentage for Assignment 1: 15\n",
            "Please enter the percentage for Assignment 2: 15\n",
            "----------------------------------------------------------------------\n",
            "Coursework mark calculated and recorded into CPT111_CWMarks_Output.txt"
          ]
        },
        {
          "output_type": "execute_result",
          "data": {
            "text/plain": []
          },
          "metadata": {},
          "execution_count": 10
        }
      ]
    },
    {
      "cell_type": "code",
      "source": [
        "path = \"CPT111_CWMarks_Output.txt\"\n",
        "with open(path, 'r') as a:\n",
        "  print(a.read())"
      ],
      "metadata": {
        "colab": {
          "base_uri": "https://localhost:8080/"
        },
        "id": "1h-CF-_MuLPu",
        "outputId": "e3d58365-cd25-473d-b44a-0a2ae8c1bae8"
      },
      "execution_count": null,
      "outputs": [
        {
          "output_type": "stream",
          "name": "stdout",
          "text": [
            "Matric Number,Test 1,Test1_Weightage,Test 2,Test2_Weightage,Assignment 1,Assignment1_Weightage,Assignment 2,Assignment2_Weightage,Total CW,over 100,Grade\n",
            "123456,78,7.80,80,8.00,85,12.75,90,13.50,42.05,84.10,A\n",
            "123457,65,6.50,55,5.50,60,9.00,54,8.10,29.10,58.20,D\n",
            "123458,55,5.50,55,5.50,60,9.00,65,9.75,29.75,59.50,D\n",
            "123459,40,4.00,60,6.00,55,8.25,65,9.75,28.00,56.00,D\n",
            "123460,36,3.60,55,5.50,78,11.70,80,12.00,32.80,65.60,C\n",
            "123461,20,2.00,50,5.00,70,10.50,65,9.75,27.25,54.50,D\n",
            "123462,27,2.70,45,4.50,60,9.00,70,10.50,26.70,53.40,D\n",
            "123463,88,8.80,95,9.50,90,13.50,85,12.75,44.55,89.10,A\n",
            "123464,75,7.50,85,8.50,74,11.10,80,12.00,39.10,78.20,B\n",
            "123465,72,7.20,75,7.50,75,11.25,68,10.20,36.15,72.30,B\n",
            "123466,68,6.80,86,8.60,88,13.20,74,11.10,39.70,79.40,B\n",
            "123467,52,5.20,56,5.60,60,9.00,70,10.50,30.30,60.60,C\n",
            "123468,45,4.50,62,6.20,75,11.25,64,9.60,31.55,63.10,C\n",
            "123469,93,9.30,75,7.50,80,12.00,65,9.75,38.55,77.10,B\n",
            "123470,77,7.70,89,8.90,80,12.00,75,11.25,39.85,79.70,B\n",
            "123470,77,7.70,89,8.90,80,12.00,75,11.25,39.85,79.70,B\n"
          ]
        }
      ]
    },
    {
      "cell_type": "markdown",
      "source": [
        "*When total number of students is more than the maximum student size, only show the maximum number.*"
      ],
      "metadata": {
        "id": "J0oMmLG-uYQV"
      }
    },
    {
      "cell_type": "markdown",
      "source": [
        "##Test Case 4"
      ],
      "metadata": {
        "id": "2z9_kaIiuhqI"
      }
    },
    {
      "cell_type": "code",
      "source": [
        "%%shell\n",
        "g++ CPT111CWCalculator.cpp -o CPT111CWCalculator.elf\n",
        "./CPT111CWCalculator.elf"
      ],
      "metadata": {
        "colab": {
          "base_uri": "https://localhost:8080/"
        },
        "id": "KgRBJnYCuhWe",
        "outputId": "d5b62c15-eeee-4e4c-beb2-61de0a8a0966"
      },
      "execution_count": null,
      "outputs": [
        {
          "output_type": "stream",
          "name": "stdout",
          "text": [
            "This is a coursework mark calculator.\n",
            "----------------------------------------------------------------------\n",
            "Please enter the total number of students: 15\n",
            "Please enter the total coursework mark: 20\n",
            "Please enter the percentage for Test 1: 5\n",
            "Please enter the percentage for Test 2: 5\n",
            "Please enter the percentage for Assignment 1: 5\n",
            "Please enter the percentage for Assignment 2: 5\n",
            "----------------------------------------------------------------------\n",
            "Coursework mark calculated and recorded into CPT111_CWMarks_Output.txt"
          ]
        },
        {
          "output_type": "execute_result",
          "data": {
            "text/plain": []
          },
          "metadata": {},
          "execution_count": 12
        }
      ]
    },
    {
      "cell_type": "code",
      "source": [
        "path = \"CPT111_CWMarks_Output.txt\"\n",
        "with open(path, 'r') as a:\n",
        "  print(a.read())"
      ],
      "metadata": {
        "colab": {
          "base_uri": "https://localhost:8080/"
        },
        "id": "lzkUnBnQujt5",
        "outputId": "8805625b-b552-4797-e627-9e3f9f091a72"
      },
      "execution_count": null,
      "outputs": [
        {
          "output_type": "stream",
          "name": "stdout",
          "text": [
            "Matric Number,Test 1,Test1_Weightage,Test 2,Test2_Weightage,Assignment 1,Assignment1_Weightage,Assignment 2,Assignment2_Weightage,Total CW,over 100,Grade\n",
            "123456,78,3.90,80,4.00,85,4.25,90,4.50,16.65,83.25,A\n",
            "123457,65,3.25,55,2.75,60,3.00,54,2.70,11.70,58.50,D\n",
            "123458,55,2.75,55,2.75,60,3.00,65,3.25,11.75,58.75,D\n",
            "123459,40,2.00,60,3.00,55,2.75,65,3.25,11.00,55.00,D\n",
            "123460,36,1.80,55,2.75,78,3.90,80,4.00,12.45,62.25,C\n",
            "123461,20,1.00,50,2.50,70,3.50,65,3.25,10.25,51.25,D\n",
            "123462,27,1.35,45,2.25,60,3.00,70,3.50,10.10,50.50,D\n",
            "123463,88,4.40,95,4.75,90,4.50,85,4.25,17.90,89.50,A\n",
            "123464,75,3.75,85,4.25,74,3.70,80,4.00,15.70,78.50,B\n",
            "123465,72,3.60,75,3.75,75,3.75,68,3.40,14.50,72.50,B\n",
            "123466,68,3.40,86,4.30,88,4.40,74,3.70,15.80,79.00,B\n",
            "123467,52,2.60,56,2.80,60,3.00,70,3.50,11.90,59.50,D\n",
            "123468,45,2.25,62,3.10,75,3.75,64,3.20,12.30,61.50,C\n",
            "123469,93,4.65,75,3.75,80,4.00,65,3.25,15.65,78.25,B\n",
            "123470,77,3.85,89,4.45,80,4.00,75,3.75,16.05,80.25,A\n"
          ]
        }
      ]
    },
    {
      "cell_type": "markdown",
      "source": [
        "*Changing the percentage and also the total coursework mark*"
      ],
      "metadata": {
        "id": "p1HLH9WAuuW8"
      }
    },
    {
      "cell_type": "markdown",
      "source": [
        "##Test Case 5"
      ],
      "metadata": {
        "id": "af6Q1y-7uzxb"
      }
    },
    {
      "cell_type": "code",
      "source": [
        "%%shell\n",
        "g++ CPT111CWCalculator.cpp -o CPT111CWCalculator.elf\n",
        "./CPT111CWCalculator.elf"
      ],
      "metadata": {
        "colab": {
          "base_uri": "https://localhost:8080/"
        },
        "id": "cFyhX-Xqu2Q3",
        "outputId": "1a2f04cf-519e-474a-b425-cf548aee0a57"
      },
      "execution_count": null,
      "outputs": [
        {
          "output_type": "stream",
          "name": "stdout",
          "text": [
            "This is a coursework mark calculator.\n",
            "----------------------------------------------------------------------\n",
            "Please enter the total number of students: 5\n",
            "Please enter the total coursework mark: 80\n",
            "Please enter the percentage for Test 1: 30\n",
            "Please enter the percentage for Test 2: 30\n",
            "Please enter the percentage for Assignment 1: 20\n",
            "Please enter the percentage for Assignment 2: 20\n",
            "----------------------------------------------------------------------\n",
            "Total percentage is not equal to the total coursework mark!\n",
            "Please enter the total coursework mark again: 100\n",
            "Please enter the percentage for Test 1 again: 30\n",
            "Please enter the percentage for Test 2 again: 30\n",
            "Please enter the percentage for Assignment 1 again: 20\n",
            "Please enter the percentage for Assignment 2 again: 20\n",
            "----------------------------------------------------------------------\n",
            "Coursework mark calculated and recorded into CPT111_CWMarks_Output.txt"
          ]
        },
        {
          "output_type": "execute_result",
          "data": {
            "text/plain": []
          },
          "metadata": {},
          "execution_count": 14
        }
      ]
    },
    {
      "cell_type": "code",
      "source": [
        "path = \"CPT111_CWMarks_Output.txt\"\n",
        "with open(path, 'r') as a:\n",
        "  print(a.read())"
      ],
      "metadata": {
        "colab": {
          "base_uri": "https://localhost:8080/"
        },
        "id": "95ipdof6u5u7",
        "outputId": "cdbf4603-62ef-487b-e9e3-12d9a6bad88e"
      },
      "execution_count": null,
      "outputs": [
        {
          "output_type": "stream",
          "name": "stdout",
          "text": [
            "Matric Number,Test 1,Test1_Weightage,Test 2,Test2_Weightage,Assignment 1,Assignment1_Weightage,Assignment 2,Assignment2_Weightage,Total CW,over 100,Grade\n",
            "123456,78,23.40,80,24.00,85,17.00,90,18.00,82.40,82.40,A\n",
            "123457,65,19.50,55,16.50,60,12.00,54,10.80,58.80,58.80,D\n",
            "123458,55,16.50,55,16.50,60,12.00,65,13.00,58.00,58.00,D\n",
            "123459,40,12.00,60,18.00,55,11.00,65,13.00,54.00,54.00,D\n",
            "123460,36,10.80,55,16.50,78,15.60,80,16.00,58.90,58.90,D\n"
          ]
        }
      ]
    },
    {
      "cell_type": "markdown",
      "source": [
        "*Total percentage is not equal to the total coursework mark will request the user to enter until it is correct.*"
      ],
      "metadata": {
        "id": "b4URFndPvD17"
      }
    }
  ]
}